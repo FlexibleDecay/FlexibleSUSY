{
 "cells": [
  {
   "cell_type": "code",
   "execution_count": 2,
   "metadata": {},
   "outputs": [
    {
     "data": {
      "text/plain": [
       "val n : int = 100000\n"
      ]
     },
     "execution_count": 2,
     "metadata": {},
     "output_type": "execute_result"
    },
    {
     "data": {
      "text/plain": [
       "val inputs : int array =\n",
       "  [|0; 1; 2; 3; 4; 5; 6; 7; 8; 9; 10; 11; 12; 13; 14; 15; 16; 17; 18; 19; 20;\n",
       "    21; 22; 23; 24; 25; 26; 27; 28; 29; 30; 31; 32; 33; 34; 35; 36; 37; 38;\n",
       "    39; 40; 41; 42; 43; 44; 45; 46; 47; 48; 49; 50; 51; 52; 53; 54; 55; 56;\n",
       "    57; 58; 59; 60; 61; 62; 63; 64; 65; 66; 67; 68; 69; 70; 71; 72; 73; 74;\n",
       "    75; 76; 77; 78; 79; 80; 81; 82; 83; 84; 85; 86; 87; 88; 89; 90; 91; 92;\n",
       "    93; 94; 95; 96; 97; 98; 99; 100; 101; 102; 103; 104; 105; 106; 107; 108;\n",
       "    109; 110; 111; 112; 113; 114; 115; 116; 117; 118; 119; 120; 121; 122;\n",
       "    123; 124; 125; 126; 127; 128; 129; 130; 131; 132; 133; 134; 135; 136;\n",
       "    137; 138; 139; 140; 141; 142; 143; 144; 145; 146; 147; 148; 149; 150;\n",
       "    151; 152; 153; 154; 155; 156; 157; 158; 159; 160; 161; 162; 163; 164;\n",
       "    165; 166; 167; 168; 169; 170; 171; 172; 173; 174; 175; 176; 177; 178;\n",
       "    179; 180; 181; 182; 183; 184; 185; 186; 187; 188; 189; 190; 191; 192;\n",
       "    193; 194; 195; 196; 197; 198; 199; 200; 201; 202; 203; 204; 205; 206;\n",
       "    207; 208; 209; 210; 211; 212; 213; 214; 215; 216; 217; 218; 219; 220;\n",
       "    221; 222; 223; 224; 225; 226; 227; 228; 229; 230; 231; 232; 233; 234;\n",
       "    235; 236; 237; 238; 239; 240; 241; 242; 243; 244; 245; 246; 247; 248;\n",
       "    249; 250; 251; 252; 253; 254; 255; 256; 257; 258; 259; 260; 261; 262;\n",
       "    263; 264; 265; 266; 267; 268; 269; 270; 271; 272; 273; 274; 275; 276;\n",
       "    277; 278; 279; 280; 281; 282; 283; 284; 285; 286; 287; 288; 289; 290;\n",
       "    291; 292; 293; 294; 295; 296; 297; 298; ...|]\n"
      ]
     },
     "execution_count": 2,
     "metadata": {},
     "output_type": "execute_result"
    },
    {
     "data": {
      "text/plain": [
       "val counter : int ref = {contents = 0}\n"
      ]
     },
     "execution_count": 2,
     "metadata": {},
     "output_type": "execute_result"
    },
    {
     "ename": "error",
     "evalue": "compile_error",
     "output_type": "error",
     "traceback": [
      "\u001b[32mFile \"[2]\", line 9, characters 10-29:\n\u001b[31mError: Unbound module Parany\n\u001b[36m   8: \u001b[30m  if !counter = n then\n\u001b[36m   9: \u001b[30m    raise \u001b[4mParany.End_of_input\u001b[0m\u001b[30m\n\u001b[36m  10: \u001b[30m  else\u001b[0m\n"
     ]
    }
   ],
   "source": [
    "open Printf\n",
    "\n",
    "let n = 100_000\n",
    "let inputs = Array.init n (fun i -> i)\n",
    "let counter = ref 0\n",
    "\n",
    "let demux () =\n",
    "  if !counter = n then\n",
    "    raise Parany.End_of_input\n",
    "  else\n",
    "    let res = inputs.(!counter) in\n",
    "    incr counter;\n",
    "    res\n",
    "\n",
    "let work a =\n",
    "  a\n",
    "\n",
    "let res_counter = ref 0\n",
    "let results = Array.make n 0\n",
    "\n",
    "let mux x =\n",
    "  results.(!res_counter) <- x;\n",
    "  incr res_counter\n",
    "\n",
    "let main () =\n",
    "  let argc = Array.length Sys.argv in\n",
    "  if argc <> 3 then\n",
    "    (eprintf \"usage: %s nprocs csize\\n\" Sys.argv.(0);\n",
    "     exit 1);\n",
    "  let nprocs = int_of_string Sys.argv.(1) in\n",
    "  let csize = int_of_string Sys.argv.(2) in\n",
    "  Parany.run ~verbose:true ~csize ~nprocs ~demux ~work ~mux;\n",
    "  for i = 0 to n - 1 do\n",
    "    Printf.printf \"%d\\n\" results.(i)\n",
    "  done\n",
    "\n",
    "let () = main ()"
   ]
  },
  {
   "cell_type": "code",
   "execution_count": null,
   "metadata": {},
   "outputs": [],
   "source": []
  }
 ],
 "metadata": {
  "kernelspec": {
   "display_name": "OCaml 4.07.1",
   "language": "OCaml",
   "name": "ocaml-jupyter"
  },
  "language_info": {
   "codemirror_mode": "text/x-ocaml",
   "file_extension": ".ml",
   "mimetype": "text/x-ocaml",
   "name": "OCaml",
   "nbconverter_exporter": null,
   "pygments_lexer": "OCaml",
   "version": "4.07.1"
  }
 },
 "nbformat": 4,
 "nbformat_minor": 2
}
